{
 "cells": [
  {
   "cell_type": "markdown",
   "metadata": {},
   "source": [
    "# Text Processing\n",
    "\n",
    "## Capturing Text Data\n",
    "\n",
    "### Plain Text"
   ]
  },
  {
   "cell_type": "code",
   "execution_count": 1,
   "metadata": {},
   "outputs": [
    {
     "name": "stdout",
     "output_type": "stream",
     "text": [
      "Hieroglyphic writing dates from c. 3000 BC, and is composed of hundreds of symbols. A hieroglyph can represent a word, a sound, or a silent determinative; and the same symbol can serve different purposes in different contexts. Hieroglyphs were a formal script, used on stone monuments and in tombs, that could be as detailed as individual works of art.\n",
      "\n"
     ]
    }
   ],
   "source": [
    "import os\n",
    "\n",
    "# Read in a plain text file\n",
    "with open(os.path.join(\"data\", \"hieroglyph.txt\"), \"r\") as f:\n",
    "    text = f.read()\n",
    "    print(text)"
   ]
  },
  {
   "cell_type": "markdown",
   "metadata": {},
   "source": [
    "### Tabular Data"
   ]
  },
  {
   "cell_type": "code",
   "execution_count": 2,
   "metadata": {
    "scrolled": true
   },
   "outputs": [
    {
     "data": {
      "text/html": [
       "<div>\n",
       "<style scoped>\n",
       "    .dataframe tbody tr th:only-of-type {\n",
       "        vertical-align: middle;\n",
       "    }\n",
       "\n",
       "    .dataframe tbody tr th {\n",
       "        vertical-align: top;\n",
       "    }\n",
       "\n",
       "    .dataframe thead th {\n",
       "        text-align: right;\n",
       "    }\n",
       "</style>\n",
       "<table border=\"1\" class=\"dataframe\">\n",
       "  <thead>\n",
       "    <tr style=\"text-align: right;\">\n",
       "      <th></th>\n",
       "      <th>publisher</th>\n",
       "      <th>title</th>\n",
       "    </tr>\n",
       "  </thead>\n",
       "  <tbody>\n",
       "    <tr>\n",
       "      <th>0</th>\n",
       "      <td>Livemint</td>\n",
       "      <td>fed's charles plosser sees high bar for change...</td>\n",
       "    </tr>\n",
       "    <tr>\n",
       "      <th>1</th>\n",
       "      <td>IFA Magazine</td>\n",
       "      <td>us open: stocks fall after fed official hints ...</td>\n",
       "    </tr>\n",
       "    <tr>\n",
       "      <th>2</th>\n",
       "      <td>IFA Magazine</td>\n",
       "      <td>fed risks falling 'behind the curve', charles ...</td>\n",
       "    </tr>\n",
       "    <tr>\n",
       "      <th>3</th>\n",
       "      <td>Moneynews</td>\n",
       "      <td>fed's plosser: nasty weather has curbed job gr...</td>\n",
       "    </tr>\n",
       "    <tr>\n",
       "      <th>4</th>\n",
       "      <td>NASDAQ</td>\n",
       "      <td>plosser: fed may have to accelerate tapering pace</td>\n",
       "    </tr>\n",
       "  </tbody>\n",
       "</table>\n",
       "</div>"
      ],
      "text/plain": [
       "      publisher                                              title\n",
       "0      Livemint  fed's charles plosser sees high bar for change...\n",
       "1  IFA Magazine  us open: stocks fall after fed official hints ...\n",
       "2  IFA Magazine  fed risks falling 'behind the curve', charles ...\n",
       "3     Moneynews  fed's plosser: nasty weather has curbed job gr...\n",
       "4        NASDAQ  plosser: fed may have to accelerate tapering pace"
      ]
     },
     "execution_count": 2,
     "metadata": {},
     "output_type": "execute_result"
    }
   ],
   "source": [
    "import pandas as pd\n",
    "\n",
    "# Extract text column from a dataframe\n",
    "df = pd.read_csv(os.path.join(\"data\", \"news.csv\"))\n",
    "df.head()[['publisher', 'title']]\n",
    "\n",
    "# Convert text column to lowercase\n",
    "df['title'] = df['title'].str.lower()\n",
    "df.head()[['publisher', 'title']]"
   ]
  },
  {
   "cell_type": "markdown",
   "metadata": {},
   "source": [
    "### Online Resource"
   ]
  },
  {
   "cell_type": "code",
   "execution_count": 3,
   "metadata": {
    "scrolled": true
   },
   "outputs": [
    {
     "name": "stdout",
     "output_type": "stream",
     "text": [
      "{\n",
      "    \"success\": {\n",
      "        \"total\": 1\n",
      "    },\n",
      "    \"contents\": {\n",
      "        \"quotes\": [\n",
      "            {\n",
      "                \"quote\": \"Win any way as long as you can get away with it. Nice guys finish last.\",\n",
      "                \"length\": \"71\",\n",
      "                \"author\": \"Leo Durocher\",\n",
      "                \"tags\": [\n",
      "                    \"inspire\",\n",
      "                    \"winning\"\n",
      "                ],\n",
      "                \"category\": \"inspire\",\n",
      "                \"language\": \"en\",\n",
      "                \"date\": \"2021-01-08\",\n",
      "                \"permalink\": \"https://theysaidso.com/quote/leo-durocher-win-any-way-as-long-as-you-can-get-away-with-it-nice-guys-finish-la\",\n",
      "                \"id\": \"qu_EzW6zDNMQqjK7UR3zdgeF\",\n",
      "                \"background\": \"https://theysaidso.com/img/qod/qod-inspire.jpg\",\n",
      "                \"title\": \"Inspiring Quote of the day\"\n",
      "            }\n",
      "        ]\n",
      "    },\n",
      "    \"baseurl\": \"https://theysaidso.com\",\n",
      "    \"copyright\": {\n",
      "        \"year\": 2023,\n",
      "        \"url\": \"https://theysaidso.com\"\n",
      "    }\n",
      "}\n",
      "Win any way as long as you can get away with it. Nice guys finish last. \n",
      "-- Leo Durocher\n"
     ]
    }
   ],
   "source": [
    "import requests\n",
    "import json\n",
    "\n",
    "# Fetch data from a REST API\n",
    "r = requests.get(\n",
    "    \"https://quotes.rest/qod.json\")\n",
    "res = r.json()\n",
    "print(json.dumps(res, indent=4))\n",
    "\n",
    "# Extract relevant object and field\n",
    "q = res[\"contents\"][\"quotes\"][0]\n",
    "print(q[\"quote\"], \"\\n--\", q[\"author\"])"
   ]
  },
  {
   "cell_type": "markdown",
   "metadata": {},
   "source": [
    "## Cleaning"
   ]
  },
  {
   "cell_type": "code",
   "execution_count": 4,
   "metadata": {
    "scrolled": true
   },
   "outputs": [
    {
     "name": "stdout",
     "output_type": "stream",
     "text": [
      "<html lang=\"en\" op=\"news\"><head><meta name=\"referrer\" content=\"origin\"><meta name=\"viewport\" content=\"width=device-width, initial-scale=1.0\"><link rel=\"stylesheet\" type=\"text/css\" href=\"news.css?EQXjG1GP6UjWmk89gzq4\">\n",
      "        <link rel=\"shortcut icon\" href=\"favicon.ico\">\n",
      "          <link rel=\"alternate\" type=\"application/rss+xml\" title=\"RSS\" href=\"rss\">\n",
      "        <title>Hacker News</title></head><body><center><table id=\"hnmain\" border=\"0\" cellpadding=\"0\" cellspacing=\"0\" width=\"85%\" bgcolor=\"#f6f6ef\">\n",
      "        <tr><td bgcolor=\"#ff6600\"><table border=\"0\" cellpadding=\"0\" cellspacing=\"0\" width=\"100%\" style=\"padding:2px\"><tr><td style=\"width:18px;padding-right:4px\"><a href=\"https://news.ycombinator.com\"><img src=\"y18.gif\" width=\"18\" height=\"18\" style=\"border:1px white solid;\"></a></td>\n",
      "                  <td style=\"line-height:12pt; height:10px;\"><span class=\"pagetop\"><b class=\"hnname\"><a href=\"news\">Hacker News</a></b>\n",
      "              <a href=\"newest\">new</a> | <a href=\"front\">past</a> | <a href=\"newcomments\">comments</a> | <a href=\"ask\">ask</a> | <a href=\"show\">show</a> | <a href=\"jobs\">jobs</a> | <a href=\"submit\">submit</a>            </span></td><td style=\"text-align:right;padding-right:4px;\"><span class=\"pagetop\">\n",
      "                              <a href=\"login?goto=news\">login</a>\n",
      "                          </span></td>\n",
      "              </tr></table></td></tr>\n",
      "<tr id=\"pagespace\" title=\"\" style=\"height:10px\"></tr><tr><td><table border=\"0\" cellpadding=\"0\" cellspacing=\"0\" class=\"itemlist\">\n",
      "              <tr class='athing' id='25684293'>\n",
      "      <td align=\"right\" valign=\"top\" class=\"title\"><span class=\"rank\">1.</span></td>      <td valign=\"top\" class=\"votelinks\"><center><a id='up_25684293' href='vote?id=25684293&amp;how=up&amp;goto=news'><div class='votearrow' title='upvote'></div></a></center></td><td class=\"title\"><a href=\"https://privacyinternational.org/press-release/4358/victory-high-court-against-governments-use-general-warrants\" class=\"storylink\">Victory at the High Court against the government’s use of 'general warrants’</a><span class=\"sitebit comhead\"> (<a href=\"from?site=privacyinternational.org\"><span class=\"sitestr\">privacyinternational.org</span></a>)</span></td></tr><tr><td colspan=\"2\"></td><td class=\"subtext\">\n",
      "        <span class=\"score\" id=\"score_25684293\">158 points</span> by <a href=\"user?id=mpweiher\" class=\"hnuser\">mpweiher</a> <span class=\"age\"><a href=\"item?id=25684293\">3 hours ago</a></span> <span id=\"unv_25684293\"></span> | <a href=\"hide?id=25684293&amp;goto=news\">hide</a> | <a href=\"item?id=25684293\">33&nbsp;comments</a>              </td></tr>\n",
      "      <tr class=\"spacer\" style=\"height:5px\"></tr>\n",
      "                <tr class='athing' id='25685239'>\n",
      "      <td align=\"right\" valign=\"top\" class=\"title\"><span class=\"rank\">2.</span></td>      <td valign=\"top\" class=\"votelinks\"><center><a id='up_25685239' href='vote?id=25685239&amp;how=up&amp;goto=news'><div class='votearrow' title='upvote'></div></a></center></td><td class=\"title\"><a href=\"https://www.scientificamerican.com/article/dog-domestication-may-have-begun-because-paleo-humans-couldnt-stomach-the-original-paleo-diet/\" class=\"storylink\">Excess protein enabled dog domestication during severe Ice Age winters</a><span class=\"sitebit comhead\"> (<a href=\"from?site=scientificamerican.com\"><span class=\"sitestr\">scientificamerican.com</span></a>)</span></td></tr><tr><td colspan=\"2\"></td><td class=\"subtext\">\n",
      "        <span class=\"score\" id=\"score_25685239\">51 points</span> by <a href=\"user?id=pseudolus\" class=\"hnuser\">pseudolus</a> <span class=\"age\"><a href=\"item?id=25685239\">1 hour ago</a></span> <span id=\"unv_25685239\"></span> | <a href=\"hide?id=25685239&amp;goto=news\">hide</a> | <a href=\"item?id=25685239\">28&nbsp;comments</a>              </td></tr>\n",
      "      <tr class=\"spacer\" style=\"height:5px\"></tr>\n",
      "                <tr class='athing' id='25685446'>\n",
      "      <td align=\"right\" valign=\"top\" class=\"title\"><span class=\"rank\">3.</span></td>      <td valign=\"top\" class=\"votelinks\"><center><a id='up_25685446' href='vote?id=25685446&amp;how=up&amp;goto=news'><div class='votearrow' title='upvote'></div></a></center></td><td class=\"title\"><a href=\"https://twitter.com/Shiftreduce/status/1347546599384346624\" class=\"storylink\">WhatsApp security whitepaper update: server might have access to private keys</a><span class=\"sitebit comhead\"> (<a href=\"from?site=twitter.com/shiftreduce\"><span class=\"sitestr\">twitter.com/shiftreduce</span></a>)</span></td></tr><tr><td colspan=\"2\"></td><td class=\"subtext\">\n",
      "        <span class=\"score\" id=\"score_25685446\">128 points</span> by <a href=\"user?id=Aissen\" class=\"hnuser\">Aissen</a> <span class=\"age\"><a href=\"item?id=25685446\">1 hour ago</a></span> <span id=\"unv_25685446\"></span> | <a href=\"hide?id=25685446&amp;goto=news\">hide</a> | <a href=\"item?id=25685446\">35&nbsp;comments</a>              </td></tr>\n",
      "      <tr class=\"spacer\" style=\"height:5px\"></tr>\n",
      "                <tr class='athing' id='25685024'>\n",
      "      <td align=\"right\" valign=\"top\" class=\"title\"><span class=\"rank\">4.</span></td>      <td valign=\"top\" class=\"votelinks\"><center><a id='up_25685024' href='vote?id=25685024&amp;how=up&amp;goto=news'><div class='votearrow' title='upvote'></div></a></center></td><td class=\"title\"><a href=\"https://www.usv.com/writing/2021/01/usv-climate-fund/\" class=\"storylink\">USV Climate Fund</a><span class=\"sitebit comhead\"> (<a href=\"from?site=usv.com\"><span class=\"sitestr\">usv.com</span></a>)</span></td></tr><tr><td colspan=\"2\"></td><td class=\"subtext\">\n",
      "        <span class=\"score\" id=\"score_25685024\">27 points</span> by <a href=\"user?id=tosh\" class=\"hnuser\">tosh</a> <span class=\"age\"><a href=\"item?id=25685024\">1 hour ago</a></span> <span id=\"unv_25685024\"></span> | <a href=\"hide?id=25685024&amp;goto=news\">hide</a> | <a href=\"item?id=25685024\">2&nbsp;comments</a>              </td></tr>\n",
      "      <tr class=\"spacer\" style=\"height:5px\"></tr>\n",
      "                <tr class='athing' id='25684248'>\n",
      "      <td align=\"right\" valign=\"top\" class=\"title\"><span class=\"rank\">5.</span></td>      <td valign=\"top\" class=\"votelinks\"><center><a id='up_25684248' href='vote?id=25684248&amp;how=up&amp;goto=news'><div class='votearrow' title='upvote'></div></a></center></td><td class=\"title\"><a href=\"https://www.oag.com/busiest-routes-right-now\" class=\"storylink\">World's Busiest International and Domestic Air Routes Right Now</a><span class=\"sitebit comhead\"> (<a href=\"from?site=oag.com\"><span class=\"sitestr\">oag.com</span></a>)</span></td></tr><tr><td colspan=\"2\"></td><td class=\"subtext\">\n",
      "        <span class=\"score\" id=\"score_25684248\">60 points</span> by <a href=\"user?id=infodocket\" class=\"hnuser\">infodocket</a> <span class=\"age\"><a href=\"item?id=25684248\">3 hours ago</a></span> <span id=\"unv_25684248\"></span> | <a href=\"hide?id=25684248&amp;goto=news\">hide</a> | <a href=\"item?id=25684248\">34&nbsp;comments</a>              </td></tr>\n",
      "      <tr class=\"spacer\" style=\"height:5px\"></tr>\n",
      "                <tr class='athing' id='25684838'>\n",
      "      <td align=\"right\" valign=\"top\" class=\"title\"><span class=\"rank\">6.</span></td>      <td valign=\"top\" class=\"votelinks\"><center><a id='up_25684838' href='vote?id=25684838&amp;how=up&amp;goto=news'><div class='votearrow' title='upvote'></div></a></center></td><td class=\"title\"><a href=\"https://torrentfreak.com/sci-hub-founder-criticises-sudden-twitter-ban-over-over-counterfeit-content-210108/\" class=\"storylink\">Sci-Hub Founder Criticizes Sudden Twitter Ban over “Counterfeit” Content</a><span class=\"sitebit comhead\"> (<a href=\"from?site=torrentfreak.com\"><span class=\"sitestr\">torrentfreak.com</span></a>)</span></td></tr><tr><td colspan=\"2\"></td><td class=\"subtext\">\n",
      "        <span class=\"score\" id=\"score_25684838\">177 points</span> by <a href=\"user?id=prvc\" class=\"hnuser\">prvc</a> <span class=\"age\"><a href=\"item?id=25684838\">2 hours ago</a></span> <span id=\"unv_25684838\"></span> | <a href=\"hide?id=25684838&amp;goto=news\">hide</a> | <a href=\"item?id=25684838\">58&nbsp;comments</a>              </td></tr>\n",
      "      <tr class=\"spacer\" style=\"height:5px\"></tr>\n",
      "                <tr class='athing' id='25683808'>\n",
      "      <td align=\"right\" valign=\"top\" class=\"title\"><span class=\"rank\">7.</span></td>      <td valign=\"top\" class=\"votelinks\"><center><a id='up_25683808' href='vote?id=25683808&amp;how=up&amp;goto=news'><div class='votearrow' title='upvote'></div></a></center></td><td class=\"title\"><a href=\"https://www.eccox.io/\" class=\"storylink\">Show HN: Ecco – See what your NLP language model is “thinking”</a><span class=\"sitebit comhead\"> (<a href=\"from?site=eccox.io\"><span class=\"sitestr\">eccox.io</span></a>)</span></td></tr><tr><td colspan=\"2\"></td><td class=\"subtext\">\n",
      "        <span class=\"score\" id=\"score_25683808\">72 points</span> by <a href=\"user?id=jalammar\" class=\"hnuser\">jalammar</a> <span class=\"age\"><a href=\"item?id=25683808\">4 hours ago</a></span> <span id=\"unv_25683808\"></span> | <a href=\"hide?id=25683808&amp;goto=news\">hide</a> | <a href=\"item?id=25683808\">15&nbsp;comments</a>              </td></tr>\n",
      "      <tr class=\"spacer\" style=\"height:5px\"></tr>\n",
      "                <tr class='athing' id='25685646'>\n",
      "      <td align=\"right\" valign=\"top\" class=\"title\"><span class=\"rank\">8.</span></td>      <td valign=\"top\" class=\"votelinks\"><center><a id='up_25685646' href='vote?id=25685646&amp;how=up&amp;goto=news'><div class='votearrow' title='upvote'></div></a></center></td><td class=\"title\"><a href=\"https://twitter.com/netz_frequenz/status/1347532305850634243\" class=\"storylink\">Europe: close to power grid blackout (49,74Hz power line frequency)</a><span class=\"sitebit comhead\"> (<a href=\"from?site=twitter.com/netz_frequenz\"><span class=\"sitestr\">twitter.com/netz_frequenz</span></a>)</span></td></tr><tr><td colspan=\"2\"></td><td class=\"subtext\">\n",
      "        <span class=\"score\" id=\"score_25685646\">55 points</span> by <a href=\"user?id=tosh\" class=\"hnuser\">tosh</a> <span class=\"age\"><a href=\"item?id=25685646\">48 minutes ago</a></span> <span id=\"unv_25685646\"></span> | <a href=\"hide?id=25685646&amp;goto=news\">hide</a> | <a href=\"item?id=25685646\">37&nbsp;comments</a>              </td></tr>\n",
      "      <tr class=\"spacer\" style=\"height:5px\"></tr>\n",
      "                <tr class='athing' id='25683615'>\n",
      "      <td align=\"right\" valign=\"top\" class=\"title\"><span class=\"rank\">9.</span></td>      <td valign=\"top\" class=\"votelinks\"><center><a id='up_25683615' href='vote?id=25683615&amp;how=up&amp;goto=news'><div class='votearrow' title='upvote'></div></a></center></td><td class=\"title\"><a href=\"https://www.techradar.com/news/apples-privacy-labels-reveals-whatsapp-and-facebook-messengers-hunger-for-user-data\" class=\"storylink\">Apple's privacy labels show WhatsApp and Facebook Messenger hunger for user data</a><span class=\"sitebit comhead\"> (<a href=\"from?site=techradar.com\"><span class=\"sitestr\">techradar.com</span></a>)</span></td></tr><tr><td colspan=\"2\"></td><td class=\"subtext\">\n",
      "        <span class=\"score\" id=\"score_25683615\">253 points</span> by <a href=\"user?id=ColinWright\" class=\"hnuser\">ColinWright</a> <span class=\"age\"><a href=\"item?id=25683615\">4 hours ago</a></span> <span id=\"unv_25683615\"></span> | <a href=\"hide?id=25683615&amp;goto=news\">hide</a> | <a href=\"item?id=25683615\">153&nbsp;comments</a>              </td></tr>\n",
      "      <tr class=\"spacer\" style=\"height:5px\"></tr>\n",
      "                <tr class='athing' id='25682103'>\n",
      "      <td align=\"right\" valign=\"top\" class=\"title\"><span class=\"rank\">10.</span></td>      <td valign=\"top\" class=\"votelinks\"><center><a id='up_25682103' href='vote?id=25682103&amp;how=up&amp;goto=news'><div class='votearrow' title='upvote'></div></a></center></td><td class=\"title\"><a href=\"http://www.scipy-lectures.org/index.html\" class=\"storylink\">Scipy Lecture Notes</a><span class=\"sitebit comhead\"> (<a href=\"from?site=scipy-lectures.org\"><span class=\"sitestr\">scipy-lectures.org</span></a>)</span></td></tr><tr><td colspan=\"2\"></td><td class=\"subtext\">\n",
      "        <span class=\"score\" id=\"score_25682103\">235 points</span> by <a href=\"user?id=vyuh\" class=\"hnuser\">vyuh</a> <span class=\"age\"><a href=\"item?id=25682103\">9 hours ago</a></span> <span id=\"unv_25682103\"></span> | <a href=\"hide?id=25682103&amp;goto=news\">hide</a> | <a href=\"item?id=25682103\">38&nbsp;comments</a>              </td></tr>\n",
      "      <tr class=\"spacer\" style=\"height:5px\"></tr>\n",
      "                <tr class='athing' id='25656274'>\n",
      "      <td align=\"right\" valign=\"top\" class=\"title\"><span class=\"rank\">11.</span></td>      <td valign=\"top\" class=\"votelinks\"><center><a id='up_25656274' href='vote?id=25656274&amp;how=up&amp;goto=news'><div class='votearrow' title='upvote'></div></a></center></td><td class=\"title\"><a href=\"https://www.schneier.com/blog/archives/2021/01/military-cryptanalytics-part-iii.html\" class=\"storylink\">Military Cryptanalytics, Part III</a><span class=\"sitebit comhead\"> (<a href=\"from?site=schneier.com\"><span class=\"sitestr\">schneier.com</span></a>)</span></td></tr><tr><td colspan=\"2\"></td><td class=\"subtext\">\n",
      "        <span class=\"score\" id=\"score_25656274\">16 points</span> by <a href=\"user?id=oedmarap\" class=\"hnuser\">oedmarap</a> <span class=\"age\"><a href=\"item?id=25656274\">2 hours ago</a></span> <span id=\"unv_25656274\"></span> | <a href=\"hide?id=25656274&amp;goto=news\">hide</a> | <a href=\"item?id=25656274\">2&nbsp;comments</a>              </td></tr>\n",
      "      <tr class=\"spacer\" style=\"height:5px\"></tr>\n",
      "                <tr class='athing' id='25684114'>\n",
      "      <td align=\"right\" valign=\"top\" class=\"title\"><span class=\"rank\">12.</span></td>      <td valign=\"top\" class=\"votelinks\"><center><a id='up_25684114' href='vote?id=25684114&amp;how=up&amp;goto=news'><div class='votearrow' title='upvote'></div></a></center></td><td class=\"title\"><a href=\"https://www.bbc.co.uk/news/technology-55219750\" class=\"storylink\">Google Chrome browser privacy plan investigated in UK</a><span class=\"sitebit comhead\"> (<a href=\"from?site=bbc.co.uk\"><span class=\"sitestr\">bbc.co.uk</span></a>)</span></td></tr><tr><td colspan=\"2\"></td><td class=\"subtext\">\n",
      "        <span class=\"score\" id=\"score_25684114\">132 points</span> by <a href=\"user?id=chrischapman\" class=\"hnuser\">chrischapman</a> <span class=\"age\"><a href=\"item?id=25684114\">3 hours ago</a></span> <span id=\"unv_25684114\"></span> | <a href=\"hide?id=25684114&amp;goto=news\">hide</a> | <a href=\"item?id=25684114\">55&nbsp;comments</a>              </td></tr>\n",
      "      <tr class=\"spacer\" style=\"height:5px\"></tr>\n",
      "                <tr class='athing' id='25685454'>\n",
      "      <td align=\"right\" valign=\"top\" class=\"title\"><span class=\"rank\">13.</span></td>      <td valign=\"top\" class=\"votelinks\"><center><a id='up_25685454' href='vote?id=25685454&amp;how=up&amp;goto=news'><div class='votearrow' title='upvote'></div></a></center></td><td class=\"title\"><a href=\"https://twitter.com/Espen_Antonsen/status/1347546630896160770\" class=\"storylink\">Clubhouse uploads all your contacts</a><span class=\"sitebit comhead\"> (<a href=\"from?site=twitter.com/espen_antonsen\"><span class=\"sitestr\">twitter.com/espen_antonsen</span></a>)</span></td></tr><tr><td colspan=\"2\"></td><td class=\"subtext\">\n",
      "        <span class=\"score\" id=\"score_25685454\">39 points</span> by <a href=\"user?id=sleepyhead\" class=\"hnuser\">sleepyhead</a> <span class=\"age\"><a href=\"item?id=25685454\">1 hour ago</a></span> <span id=\"unv_25685454\"></span> | <a href=\"hide?id=25685454&amp;goto=news\">hide</a> | <a href=\"item?id=25685454\">8&nbsp;comments</a>              </td></tr>\n",
      "      <tr class=\"spacer\" style=\"height:5px\"></tr>\n",
      "                <tr class='athing' id='25683420'>\n",
      "      <td align=\"right\" valign=\"top\" class=\"title\"><span class=\"rank\">14.</span></td>      <td valign=\"top\" class=\"votelinks\"><center><a id='up_25683420' href='vote?id=25683420&amp;how=up&amp;goto=news'><div class='votearrow' title='upvote'></div></a></center></td><td class=\"title\"><a href=\"https://lwn.net/Articles/840986/\" class=\"storylink\">Doing Symbolic Math with SymPy</a><span class=\"sitebit comhead\"> (<a href=\"from?site=lwn.net\"><span class=\"sitestr\">lwn.net</span></a>)</span></td></tr><tr><td colspan=\"2\"></td><td class=\"subtext\">\n",
      "        <span class=\"score\" id=\"score_25683420\">74 points</span> by <a href=\"user?id=signa11\" class=\"hnuser\">signa11</a> <span class=\"age\"><a href=\"item?id=25683420\">5 hours ago</a></span> <span id=\"unv_25683420\"></span> | <a href=\"hide?id=25683420&amp;goto=news\">hide</a> | <a href=\"item?id=25683420\">35&nbsp;comments</a>              </td></tr>\n",
      "      <tr class=\"spacer\" style=\"height:5px\"></tr>\n",
      "                <tr class='athing' id='25683760'>\n",
      "      <td align=\"right\" valign=\"top\" class=\"title\"><span class=\"rank\">15.</span></td>      <td></td><td class=\"title\"><a href=\"https://jobs.tab.travel/o/full-stack-developer-1\" class=\"storylink\" rel=\"nofollow\">Tab (YC, London) is hiring full stack developers (fintech/travel)</a><span class=\"sitebit comhead\"> (<a href=\"from?site=tab.travel\"><span class=\"sitestr\">tab.travel</span></a>)</span></td></tr><tr><td colspan=\"2\"></td><td class=\"subtext\">\n",
      "        <span class=\"age\"><a href=\"item?id=25683760\">4 hours ago</a></span> | <a href=\"hide?id=25683760&amp;goto=news\">hide</a>      </td></tr>\n",
      "      <tr class=\"spacer\" style=\"height:5px\"></tr>\n",
      "                <tr class='athing' id='25685903'>\n",
      "      <td align=\"right\" valign=\"top\" class=\"title\"><span class=\"rank\">16.</span></td>      <td valign=\"top\" class=\"votelinks\"><center><a id='up_25685903' href='vote?id=25685903&amp;how=up&amp;goto=news'><div class='votearrow' title='upvote'></div></a></center></td><td class=\"title\"><a href=\"https://fourhands.jminjie.com/\" class=\"storylink\" rel=\"nofollow\">Show HN: Fourhands is a P2P MIDI jam room for pianists</a><span class=\"sitebit comhead\"> (<a href=\"from?site=jminjie.com\"><span class=\"sitestr\">jminjie.com</span></a>)</span></td></tr><tr><td colspan=\"2\"></td><td class=\"subtext\">\n",
      "        <span class=\"score\" id=\"score_25685903\">7 points</span> by <a href=\"user?id=jm_l\" class=\"hnuser\">jm_l</a> <span class=\"age\"><a href=\"item?id=25685903\">25 minutes ago</a></span> <span id=\"unv_25685903\"></span> | <a href=\"hide?id=25685903&amp;goto=news\">hide</a> | <a href=\"item?id=25685903\">2&nbsp;comments</a>              </td></tr>\n",
      "      <tr class=\"spacer\" style=\"height:5px\"></tr>\n",
      "                <tr class='athing' id='25671452'>\n",
      "      <td align=\"right\" valign=\"top\" class=\"title\"><span class=\"rank\">17.</span></td>      <td valign=\"top\" class=\"votelinks\"><center><a id='up_25671452' href='vote?id=25671452&amp;how=up&amp;goto=news'><div class='votearrow' title='upvote'></div></a></center></td><td class=\"title\"><a href=\"https://spectrum.ieee.org/automaton/robotics/humanoids/how-boston-dynamics-taught-its-robots-to-dance\" class=\"storylink\">How Boston Dynamics Taught Its Robots to Dance</a><span class=\"sitebit comhead\"> (<a href=\"from?site=ieee.org\"><span class=\"sitestr\">ieee.org</span></a>)</span></td></tr><tr><td colspan=\"2\"></td><td class=\"subtext\">\n",
      "        <span class=\"score\" id=\"score_25671452\">289 points</span> by <a href=\"user?id=samizdis\" class=\"hnuser\">samizdis</a> <span class=\"age\"><a href=\"item?id=25671452\">12 hours ago</a></span> <span id=\"unv_25671452\"></span> | <a href=\"hide?id=25671452&amp;goto=news\">hide</a> | <a href=\"item?id=25671452\">148&nbsp;comments</a>              </td></tr>\n",
      "      <tr class=\"spacer\" style=\"height:5px\"></tr>\n",
      "                <tr class='athing' id='25683727'>\n",
      "      <td align=\"right\" valign=\"top\" class=\"title\"><span class=\"rank\">18.</span></td>      <td valign=\"top\" class=\"votelinks\"><center><a id='up_25683727' href='vote?id=25683727&amp;how=up&amp;goto=news'><div class='votearrow' title='upvote'></div></a></center></td><td class=\"title\"><a href=\"https://www.forbes.com/sites/zakdoffman/2021/01/03/whatsapp-beaten-by-apples-new-imessage-update-for-iphone-users/\" class=\"storylink\">WhatsApp Beaten by Apple’s New iMessage Privacy Update</a><span class=\"sitebit comhead\"> (<a href=\"from?site=forbes.com/sites/zakdoffman\"><span class=\"sitestr\">forbes.com/sites/zakdoffman</span></a>)</span></td></tr><tr><td colspan=\"2\"></td><td class=\"subtext\">\n",
      "        <span class=\"score\" id=\"score_25683727\">187 points</span> by <a href=\"user?id=Tomte\" class=\"hnuser\">Tomte</a> <span class=\"age\"><a href=\"item?id=25683727\">4 hours ago</a></span> <span id=\"unv_25683727\"></span> | <a href=\"hide?id=25683727&amp;goto=news\">hide</a> | <a href=\"item?id=25683727\">106&nbsp;comments</a>              </td></tr>\n",
      "      <tr class=\"spacer\" style=\"height:5px\"></tr>\n",
      "                <tr class='athing' id='25683586'>\n",
      "      <td align=\"right\" valign=\"top\" class=\"title\"><span class=\"rank\">19.</span></td>      <td valign=\"top\" class=\"votelinks\"><center><a id='up_25683586' href='vote?id=25683586&amp;how=up&amp;goto=news'><div class='votearrow' title='upvote'></div></a></center></td><td class=\"title\"><a href=\"https://twitter.com/JacobOracle/status/1346133062204198917\" class=\"storylink\">Tether price manipulation</a><span class=\"sitebit comhead\"> (<a href=\"from?site=twitter.com/jacoboracle\"><span class=\"sitestr\">twitter.com/jacoboracle</span></a>)</span></td></tr><tr><td colspan=\"2\"></td><td class=\"subtext\">\n",
      "        <span class=\"score\" id=\"score_25683586\">168 points</span> by <a href=\"user?id=temp\" class=\"hnuser\">temp</a> <span class=\"age\"><a href=\"item?id=25683586\">4 hours ago</a></span> <span id=\"unv_25683586\"></span> | <a href=\"hide?id=25683586&amp;goto=news\">hide</a> | <a href=\"item?id=25683586\">223&nbsp;comments</a>              </td></tr>\n",
      "      <tr class=\"spacer\" style=\"height:5px\"></tr>\n",
      "                <tr class='athing' id='25685187'>\n",
      "      <td align=\"right\" valign=\"top\" class=\"title\"><span class=\"rank\">20.</span></td>      <td valign=\"top\" class=\"votelinks\"><center><a id='up_25685187' href='vote?id=25685187&amp;how=up&amp;goto=news'><div class='votearrow' title='upvote'></div></a></center></td><td class=\"title\"><a href=\"https://www.indiatoday.in/coronavirus-outbreak/story/india-nasal-coronavirus-vaccine-soon-trials-begin-nagpur-1756780-2021-01-07\" class=\"storylink\">India could get nasal vaccine against Covid-19 soon</a><span class=\"sitebit comhead\"> (<a href=\"from?site=indiatoday.in\"><span class=\"sitestr\">indiatoday.in</span></a>)</span></td></tr><tr><td colspan=\"2\"></td><td class=\"subtext\">\n",
      "        <span class=\"score\" id=\"score_25685187\">20 points</span> by <a href=\"user?id=jangid\" class=\"hnuser\">jangid</a> <span class=\"age\"><a href=\"item?id=25685187\">1 hour ago</a></span> <span id=\"unv_25685187\"></span> | <a href=\"hide?id=25685187&amp;goto=news\">hide</a> | <a href=\"item?id=25685187\">discuss</a>              </td></tr>\n",
      "      <tr class=\"spacer\" style=\"height:5px\"></tr>\n",
      "                <tr class='athing' id='25682785'>\n",
      "      <td align=\"right\" valign=\"top\" class=\"title\"><span class=\"rank\">21.</span></td>      <td valign=\"top\" class=\"votelinks\"><center><a id='up_25682785' href='vote?id=25682785&amp;how=up&amp;goto=news'><div class='votearrow' title='upvote'></div></a></center></td><td class=\"title\"><a href=\"https://twitter.com/marcan42/status/1347403996332376065\" class=\"storylink\">Texas Instruments sent a DMCA takedown to a site archiving data sheets</a><span class=\"sitebit comhead\"> (<a href=\"from?site=twitter.com/marcan42\"><span class=\"sitestr\">twitter.com/marcan42</span></a>)</span></td></tr><tr><td colspan=\"2\"></td><td class=\"subtext\">\n",
      "        <span class=\"score\" id=\"score_25682785\">277 points</span> by <a href=\"user?id=DyslexicAtheist\" class=\"hnuser\">DyslexicAtheist</a> <span class=\"age\"><a href=\"item?id=25682785\">7 hours ago</a></span> <span id=\"unv_25682785\"></span> | <a href=\"hide?id=25682785&amp;goto=news\">hide</a> | <a href=\"item?id=25682785\">84&nbsp;comments</a>              </td></tr>\n",
      "      <tr class=\"spacer\" style=\"height:5px\"></tr>\n",
      "                <tr class='athing' id='25685917'>\n",
      "      <td align=\"right\" valign=\"top\" class=\"title\"><span class=\"rank\">22.</span></td>      <td valign=\"top\" class=\"votelinks\"><center><a id='up_25685917' href='vote?id=25685917&amp;how=up&amp;goto=news'><div class='votearrow' title='upvote'></div></a></center></td><td class=\"title\"><a href=\"https://blog.jetbrains.com/blog/2021/01/07/an-update-on-solarwinds/\" class=\"storylink\">An Update on SolarWinds</a><span class=\"sitebit comhead\"> (<a href=\"from?site=jetbrains.com\"><span class=\"sitestr\">jetbrains.com</span></a>)</span></td></tr><tr><td colspan=\"2\"></td><td class=\"subtext\">\n",
      "        <span class=\"score\" id=\"score_25685917\">10 points</span> by <a href=\"user?id=ingve\" class=\"hnuser\">ingve</a> <span class=\"age\"><a href=\"item?id=25685917\">24 minutes ago</a></span> <span id=\"unv_25685917\"></span> | <a href=\"hide?id=25685917&amp;goto=news\">hide</a> | <a href=\"item?id=25685917\">discuss</a>              </td></tr>\n",
      "      <tr class=\"spacer\" style=\"height:5px\"></tr>\n",
      "                <tr class='athing' id='25681362'>\n",
      "      <td align=\"right\" valign=\"top\" class=\"title\"><span class=\"rank\">23.</span></td>      <td valign=\"top\" class=\"votelinks\"><center><a id='up_25681362' href='vote?id=25681362&amp;how=up&amp;goto=news'><div class='votearrow' title='upvote'></div></a></center></td><td class=\"title\"><a href=\"https://eklitzke.org/how-tail-call-optimization-works\" class=\"storylink\">How Tail Call Optimization Works</a><span class=\"sitebit comhead\"> (<a href=\"from?site=eklitzke.org\"><span class=\"sitestr\">eklitzke.org</span></a>)</span></td></tr><tr><td colspan=\"2\"></td><td class=\"subtext\">\n",
      "        <span class=\"score\" id=\"score_25681362\">178 points</span> by <a href=\"user?id=g42gregory\" class=\"hnuser\">g42gregory</a> <span class=\"age\"><a href=\"item?id=25681362\">12 hours ago</a></span> <span id=\"unv_25681362\"></span> | <a href=\"hide?id=25681362&amp;goto=news\">hide</a> | <a href=\"item?id=25681362\">151&nbsp;comments</a>              </td></tr>\n",
      "      <tr class=\"spacer\" style=\"height:5px\"></tr>\n",
      "                <tr class='athing' id='25683158'>\n",
      "      <td align=\"right\" valign=\"top\" class=\"title\"><span class=\"rank\">24.</span></td>      <td valign=\"top\" class=\"votelinks\"><center><a id='up_25683158' href='vote?id=25683158&amp;how=up&amp;goto=news'><div class='votearrow' title='upvote'></div></a></center></td><td class=\"title\"><a href=\"https://lwn.net/SubscriberLink/841916/3214238251863f9d/\" class=\"storylink\">Restricted DMA</a><span class=\"sitebit comhead\"> (<a href=\"from?site=lwn.net\"><span class=\"sitestr\">lwn.net</span></a>)</span></td></tr><tr><td colspan=\"2\"></td><td class=\"subtext\">\n",
      "        <span class=\"score\" id=\"score_25683158\">26 points</span> by <a href=\"user?id=Tomte\" class=\"hnuser\">Tomte</a> <span class=\"age\"><a href=\"item?id=25683158\">6 hours ago</a></span> <span id=\"unv_25683158\"></span> | <a href=\"hide?id=25683158&amp;goto=news\">hide</a> | <a href=\"item?id=25683158\">7&nbsp;comments</a>              </td></tr>\n",
      "      <tr class=\"spacer\" style=\"height:5px\"></tr>\n",
      "                <tr class='athing' id='25676660'>\n",
      "      <td align=\"right\" valign=\"top\" class=\"title\"><span class=\"rank\">25.</span></td>      <td valign=\"top\" class=\"votelinks\"><center><a id='up_25676660' href='vote?id=25676660&amp;how=up&amp;goto=news'><div class='votearrow' title='upvote'></div></a></center></td><td class=\"title\"><a href=\"http://jamie-wong.com/2014/08/19/metaballs-and-marching-squares/\" class=\"storylink\">Metaballs and Marching Squares</a><span class=\"sitebit comhead\"> (<a href=\"from?site=jamie-wong.com\"><span class=\"sitestr\">jamie-wong.com</span></a>)</span></td></tr><tr><td colspan=\"2\"></td><td class=\"subtext\">\n",
      "        <span class=\"score\" id=\"score_25676660\">93 points</span> by <a href=\"user?id=bobbiechen\" class=\"hnuser\">bobbiechen</a> <span class=\"age\"><a href=\"item?id=25676660\">11 hours ago</a></span> <span id=\"unv_25676660\"></span> | <a href=\"hide?id=25676660&amp;goto=news\">hide</a> | <a href=\"item?id=25676660\">26&nbsp;comments</a>              </td></tr>\n",
      "      <tr class=\"spacer\" style=\"height:5px\"></tr>\n",
      "                <tr class='athing' id='25673951'>\n",
      "      <td align=\"right\" valign=\"top\" class=\"title\"><span class=\"rank\">26.</span></td>      <td valign=\"top\" class=\"votelinks\"><center><a id='up_25673951' href='vote?id=25673951&amp;how=up&amp;goto=news'><div class='votearrow' title='upvote'></div></a></center></td><td class=\"title\"><a href=\"https://www.newyorker.com/culture/culture-desk/a-new-history-of-arabia-written-in-stone/\" class=\"storylink\">A New History of Arabia, Written in Stone (2018)</a><span class=\"sitebit comhead\"> (<a href=\"from?site=newyorker.com\"><span class=\"sitestr\">newyorker.com</span></a>)</span></td></tr><tr><td colspan=\"2\"></td><td class=\"subtext\">\n",
      "        <span class=\"score\" id=\"score_25673951\">44 points</span> by <a href=\"user?id=Tomte\" class=\"hnuser\">Tomte</a> <span class=\"age\"><a href=\"item?id=25673951\">9 hours ago</a></span> <span id=\"unv_25673951\"></span> | <a href=\"hide?id=25673951&amp;goto=news\">hide</a> | <a href=\"item?id=25673951\">9&nbsp;comments</a>              </td></tr>\n",
      "      <tr class=\"spacer\" style=\"height:5px\"></tr>\n",
      "                <tr class='athing' id='25683151'>\n",
      "      <td align=\"right\" valign=\"top\" class=\"title\"><span class=\"rank\">27.</span></td>      <td valign=\"top\" class=\"votelinks\"><center><a id='up_25683151' href='vote?id=25683151&amp;how=up&amp;goto=news'><div class='votearrow' title='upvote'></div></a></center></td><td class=\"title\"><a href=\"https://hackaday.com/2021/01/08/the-amiga-1000-still-receiving-new-peripherals-35-years-later/\" class=\"storylink\">The Amiga 1000, Still Receiving New Peripherals 35 Years Later</a><span class=\"sitebit comhead\"> (<a href=\"from?site=hackaday.com\"><span class=\"sitestr\">hackaday.com</span></a>)</span></td></tr><tr><td colspan=\"2\"></td><td class=\"subtext\">\n",
      "        <span class=\"score\" id=\"score_25683151\">69 points</span> by <a href=\"user?id=sohkamyung\" class=\"hnuser\">sohkamyung</a> <span class=\"age\"><a href=\"item?id=25683151\">6 hours ago</a></span> <span id=\"unv_25683151\"></span> | <a href=\"hide?id=25683151&amp;goto=news\">hide</a> | <a href=\"item?id=25683151\">44&nbsp;comments</a>              </td></tr>\n",
      "      <tr class=\"spacer\" style=\"height:5px\"></tr>\n",
      "                <tr class='athing' id='25664867'>\n",
      "      <td align=\"right\" valign=\"top\" class=\"title\"><span class=\"rank\">28.</span></td>      <td valign=\"top\" class=\"votelinks\"><center><a id='up_25664867' href='vote?id=25664867&amp;how=up&amp;goto=news'><div class='votearrow' title='upvote'></div></a></center></td><td class=\"title\"><a href=\"https://psyche.co/ideas/loves-contradictions-catullus-on-the-agony-of-infatuation\" class=\"storylink\">Love’s contradictions: Catullus on the agony of infatuation</a><span class=\"sitebit comhead\"> (<a href=\"from?site=psyche.co\"><span class=\"sitestr\">psyche.co</span></a>)</span></td></tr><tr><td colspan=\"2\"></td><td class=\"subtext\">\n",
      "        <span class=\"score\" id=\"score_25664867\">87 points</span> by <a href=\"user?id=diodorus\" class=\"hnuser\">diodorus</a> <span class=\"age\"><a href=\"item?id=25664867\">13 hours ago</a></span> <span id=\"unv_25664867\"></span> | <a href=\"hide?id=25664867&amp;goto=news\">hide</a> | <a href=\"item?id=25664867\">16&nbsp;comments</a>              </td></tr>\n",
      "      <tr class=\"spacer\" style=\"height:5px\"></tr>\n",
      "                <tr class='athing' id='25677144'>\n",
      "      <td align=\"right\" valign=\"top\" class=\"title\"><span class=\"rank\">29.</span></td>      <td valign=\"top\" class=\"votelinks\"><center><a id='up_25677144' href='vote?id=25677144&amp;how=up&amp;goto=news'><div class='votearrow' title='upvote'></div></a></center></td><td class=\"title\"><a href=\"https://www.bbc.com/reel/video/p0931jtk/the-nuclear-lighthouses-built-by-the-soviets-in-the-arctic\" class=\"storylink\">Nuclear lighthouses built by the Soviets in the Arctic [video]</a><span class=\"sitebit comhead\"> (<a href=\"from?site=bbc.com\"><span class=\"sitestr\">bbc.com</span></a>)</span></td></tr><tr><td colspan=\"2\"></td><td class=\"subtext\">\n",
      "        <span class=\"score\" id=\"score_25677144\">439 points</span> by <a href=\"user?id=etimberg\" class=\"hnuser\">etimberg</a> <span class=\"age\"><a href=\"item?id=25677144\">19 hours ago</a></span> <span id=\"unv_25677144\"></span> | <a href=\"hide?id=25677144&amp;goto=news\">hide</a> | <a href=\"item?id=25677144\">232&nbsp;comments</a>              </td></tr>\n",
      "      <tr class=\"spacer\" style=\"height:5px\"></tr>\n",
      "                <tr class='athing' id='25673631'>\n",
      "      <td align=\"right\" valign=\"top\" class=\"title\"><span class=\"rank\">30.</span></td>      <td valign=\"top\" class=\"votelinks\"><center><a id='up_25673631' href='vote?id=25673631&amp;how=up&amp;goto=news'><div class='votearrow' title='upvote'></div></a></center></td><td class=\"title\"><a href=\"https://rosenzweig.io/blog/asahi-gpu-part-1.html\" class=\"storylink\">Dissecting the Apple M1 GPU, part I</a><span class=\"sitebit comhead\"> (<a href=\"from?site=rosenzweig.io\"><span class=\"sitestr\">rosenzweig.io</span></a>)</span></td></tr><tr><td colspan=\"2\"></td><td class=\"subtext\">\n",
      "        <span class=\"score\" id=\"score_25673631\">529 points</span> by <a href=\"user?id=caution\" class=\"hnuser\">caution</a> <span class=\"age\"><a href=\"item?id=25673631\">23 hours ago</a></span> <span id=\"unv_25673631\"></span> | <a href=\"hide?id=25673631&amp;goto=news\">hide</a> | <a href=\"item?id=25673631\">128&nbsp;comments</a>              </td></tr>\n",
      "      <tr class=\"spacer\" style=\"height:5px\"></tr>\n",
      "            <tr class=\"morespace\" style=\"height:10px\"></tr><tr><td colspan=\"2\"></td><td class=\"title\"><a href=\"news?p=2\" class=\"morelink\" rel=\"next\">More</a></td></tr>\n",
      "  </table>\n",
      "</td></tr>\n",
      "<tr><td><img src=\"s.gif\" height=\"10\" width=\"0\"><table width=\"100%\" cellspacing=\"0\" cellpadding=\"1\"><tr><td bgcolor=\"#ff6600\"></td></tr></table><br><center><span class=\"yclinks\"><a href=\"newsguidelines.html\">Guidelines</a>\n",
      "        | <a href=\"newsfaq.html\">FAQ</a>\n",
      "        | <a href=\"lists\">Lists</a>\n",
      "        | <a href=\"https://github.com/HackerNews/API\">API</a>\n",
      "        | <a href=\"security.html\">Security</a>\n",
      "        | <a href=\"http://www.ycombinator.com/legal/\">Legal</a>\n",
      "        | <a href=\"http://www.ycombinator.com/apply/\">Apply to YC</a>\n",
      "        | <a href=\"mailto:hn@ycombinator.com\">Contact</a></span><br><br><form method=\"get\" action=\"//hn.algolia.com/\">Search:\n",
      "          <input type=\"text\" name=\"q\" value=\"\" size=\"17\" autocorrect=\"off\" spellcheck=\"false\" autocapitalize=\"off\" autocomplete=\"false\"></form>\n",
      "            </center></td></tr>\n",
      "      </table></center></body><script type='text/javascript' src='hn.js?EQXjG1GP6UjWmk89gzq4'></script></html>\n",
      "\n"
     ]
    }
   ],
   "source": [
    "import requests\n",
    "\n",
    "# Fetch a web page\n",
    "r = requests.get(\"https://news.ycombinator.com\")\n",
    "print(r.text)"
   ]
  },
  {
   "cell_type": "code",
   "execution_count": 5,
   "metadata": {},
   "outputs": [
    {
     "name": "stdout",
     "output_type": "stream",
     "text": [
      "\n",
      "        \n",
      "          \n",
      "        Hacker News\n",
      "        \n",
      "                  Hacker News\n",
      "              new | past | comments | ask | show | jobs | submit            \n",
      "                              login\n",
      "                          \n",
      "              \n",
      "\n",
      "              \n",
      "      1.      Victory at the High Court against the government’s use of 'general warrants’ (privacyinternational.org)\n",
      "        158 points by mpweiher 3 hours ago  | hide | 33&nbsp;comments              \n",
      "      \n",
      "                \n",
      "      2.      Excess protein enabled dog domestication during severe Ice Age winters (scientificamerican.com)\n",
      "        51 points by pseudolus 1 hour ago  | hide | 28&nbsp;comments              \n",
      "      \n",
      "                \n",
      "      3.      WhatsApp security whitepaper update: server might have access to private keys (twitter.com/shiftreduce)\n",
      "        128 points by Aissen 1 hour ago  | hide | 35&nbsp;comments              \n",
      "      \n",
      "                \n",
      "      4.      USV Climate Fund (usv.com)\n",
      "        27 points by tosh 1 hour ago  | hide | 2&nbsp;comments              \n",
      "      \n",
      "                \n",
      "      5.      World's Busiest International and Domestic Air Routes Right Now (oag.com)\n",
      "        60 points by infodocket 3 hours ago  | hide | 34&nbsp;comments              \n",
      "      \n",
      "                \n",
      "      6.      Sci-Hub Founder Criticizes Sudden Twitter Ban over “Counterfeit” Content (torrentfreak.com)\n",
      "        177 points by prvc 2 hours ago  | hide | 58&nbsp;comments              \n",
      "      \n",
      "                \n",
      "      7.      Show HN: Ecco – See what your NLP language model is “thinking” (eccox.io)\n",
      "        72 points by jalammar 4 hours ago  | hide | 15&nbsp;comments              \n",
      "      \n",
      "                \n",
      "      8.      Europe: close to power grid blackout (49,74Hz power line frequency) (twitter.com/netz_frequenz)\n",
      "        55 points by tosh 48 minutes ago  | hide | 37&nbsp;comments              \n",
      "      \n",
      "                \n",
      "      9.      Apple's privacy labels show WhatsApp and Facebook Messenger hunger for user data (techradar.com)\n",
      "        253 points by ColinWright 4 hours ago  | hide | 153&nbsp;comments              \n",
      "      \n",
      "                \n",
      "      10.      Scipy Lecture Notes (scipy-lectures.org)\n",
      "        235 points by vyuh 9 hours ago  | hide | 38&nbsp;comments              \n",
      "      \n",
      "                \n",
      "      11.      Military Cryptanalytics, Part III (schneier.com)\n",
      "        16 points by oedmarap 2 hours ago  | hide | 2&nbsp;comments              \n",
      "      \n",
      "                \n",
      "      12.      Google Chrome browser privacy plan investigated in UK (bbc.co.uk)\n",
      "        132 points by chrischapman 3 hours ago  | hide | 55&nbsp;comments              \n",
      "      \n",
      "                \n",
      "      13.      Clubhouse uploads all your contacts (twitter.com/espen_antonsen)\n",
      "        39 points by sleepyhead 1 hour ago  | hide | 8&nbsp;comments              \n",
      "      \n",
      "                \n",
      "      14.      Doing Symbolic Math with SymPy (lwn.net)\n",
      "        74 points by signa11 5 hours ago  | hide | 35&nbsp;comments              \n",
      "      \n",
      "                \n",
      "      15.      Tab (YC, London) is hiring full stack developers (fintech/travel) (tab.travel)\n",
      "        4 hours ago | hide      \n",
      "      \n",
      "                \n",
      "      16.      Show HN: Fourhands is a P2P MIDI jam room for pianists (jminjie.com)\n",
      "        7 points by jm_l 25 minutes ago  | hide | 2&nbsp;comments              \n",
      "      \n",
      "                \n",
      "      17.      How Boston Dynamics Taught Its Robots to Dance (ieee.org)\n",
      "        289 points by samizdis 12 hours ago  | hide | 148&nbsp;comments              \n",
      "      \n",
      "                \n",
      "      18.      WhatsApp Beaten by Apple’s New iMessage Privacy Update (forbes.com/sites/zakdoffman)\n",
      "        187 points by Tomte 4 hours ago  | hide | 106&nbsp;comments              \n",
      "      \n",
      "                \n",
      "      19.      Tether price manipulation (twitter.com/jacoboracle)\n",
      "        168 points by temp 4 hours ago  | hide | 223&nbsp;comments              \n",
      "      \n",
      "                \n",
      "      20.      India could get nasal vaccine against Covid-19 soon (indiatoday.in)\n",
      "        20 points by jangid 1 hour ago  | hide | discuss              \n",
      "      \n",
      "                \n",
      "      21.      Texas Instruments sent a DMCA takedown to a site archiving data sheets (twitter.com/marcan42)\n",
      "        277 points by DyslexicAtheist 7 hours ago  | hide | 84&nbsp;comments              \n",
      "      \n",
      "                \n",
      "      22.      An Update on SolarWinds (jetbrains.com)\n",
      "        10 points by ingve 24 minutes ago  | hide | discuss              \n",
      "      \n",
      "                \n",
      "      23.      How Tail Call Optimization Works (eklitzke.org)\n",
      "        178 points by g42gregory 12 hours ago  | hide | 151&nbsp;comments              \n",
      "      \n",
      "                \n",
      "      24.      Restricted DMA (lwn.net)\n",
      "        26 points by Tomte 6 hours ago  | hide | 7&nbsp;comments              \n",
      "      \n",
      "                \n",
      "      25.      Metaballs and Marching Squares (jamie-wong.com)\n",
      "        93 points by bobbiechen 11 hours ago  | hide | 26&nbsp;comments              \n",
      "      \n",
      "                \n",
      "      26.      A New History of Arabia, Written in Stone (2018) (newyorker.com)\n",
      "        44 points by Tomte 9 hours ago  | hide | 9&nbsp;comments              \n",
      "      \n",
      "                \n",
      "      27.      The Amiga 1000, Still Receiving New Peripherals 35 Years Later (hackaday.com)\n",
      "        69 points by sohkamyung 6 hours ago  | hide | 44&nbsp;comments              \n",
      "      \n",
      "                \n",
      "      28.      Love’s contradictions: Catullus on the agony of infatuation (psyche.co)\n",
      "        87 points by diodorus 13 hours ago  | hide | 16&nbsp;comments              \n",
      "      \n",
      "                \n",
      "      29.      Nuclear lighthouses built by the Soviets in the Arctic [video] (bbc.com)\n",
      "        439 points by etimberg 19 hours ago  | hide | 232&nbsp;comments              \n",
      "      \n",
      "                \n",
      "      30.      Dissecting the Apple M1 GPU, part I (rosenzweig.io)\n",
      "        529 points by caution 23 hours ago  | hide | 128&nbsp;comments              \n",
      "      \n",
      "            More\n",
      "  \n",
      "\n",
      "Guidelines\n",
      "        | FAQ\n",
      "        | Lists\n",
      "        | API\n",
      "        | Security\n",
      "        | Legal\n",
      "        | Apply to YC\n",
      "        | ContactSearch:\n",
      "          \n",
      "            \n",
      "      \n",
      "\n"
     ]
    }
   ],
   "source": [
    "import re\n",
    "\n",
    "# Remove HTML tags using RegEx\n",
    "pattern = re.compile(r'<.*?>')  # tags look like <...>\n",
    "print(pattern.sub('', r.text))  # replace them with blank"
   ]
  },
  {
   "cell_type": "code",
   "execution_count": 6,
   "metadata": {},
   "outputs": [
    {
     "name": "stdout",
     "output_type": "stream",
     "text": [
      "\n",
      "        \n",
      "          \n",
      "        Hacker News\n",
      "        \n",
      "                  Hacker News\n",
      "              new | past | comments | ask | show | jobs | submit            \n",
      "                              login\n",
      "                          \n",
      "              \n",
      "\n",
      "              \n",
      "      1.      Victory at the High Court against the government’s use of 'general warrants’ (privacyinternational.org)\n",
      "        158 points by mpweiher 3 hours ago  | hide | 33 comments              \n",
      "      \n",
      "                \n",
      "      2.      Excess protein enabled dog domestication during severe Ice Age winters (scientificamerican.com)\n",
      "        51 points by pseudolus 1 hour ago  | hide | 28 comments              \n",
      "      \n",
      "                \n",
      "      3.      WhatsApp security whitepaper update: server might have access to private keys (twitter.com/shiftreduce)\n",
      "        128 points by Aissen 1 hour ago  | hide | 35 comments              \n",
      "      \n",
      "                \n",
      "      4.      USV Climate Fund (usv.com)\n",
      "        27 points by tosh 1 hour ago  | hide | 2 comments              \n",
      "      \n",
      "                \n",
      "      5.      World's Busiest International and Domestic Air Routes Right Now (oag.com)\n",
      "        60 points by infodocket 3 hours ago  | hide | 34 comments              \n",
      "      \n",
      "                \n",
      "      6.      Sci-Hub Founder Criticizes Sudden Twitter Ban over “Counterfeit” Content (torrentfreak.com)\n",
      "        177 points by prvc 2 hours ago  | hide | 58 comments              \n",
      "      \n",
      "                \n",
      "      7.      Show HN: Ecco – See what your NLP language model is “thinking” (eccox.io)\n",
      "        72 points by jalammar 4 hours ago  | hide | 15 comments              \n",
      "      \n",
      "                \n",
      "      8.      Europe: close to power grid blackout (49,74Hz power line frequency) (twitter.com/netz_frequenz)\n",
      "        55 points by tosh 48 minutes ago  | hide | 37 comments              \n",
      "      \n",
      "                \n",
      "      9.      Apple's privacy labels show WhatsApp and Facebook Messenger hunger for user data (techradar.com)\n",
      "        253 points by ColinWright 4 hours ago  | hide | 153 comments              \n",
      "      \n",
      "                \n",
      "      10.      Scipy Lecture Notes (scipy-lectures.org)\n",
      "        235 points by vyuh 9 hours ago  | hide | 38 comments              \n",
      "      \n",
      "                \n",
      "      11.      Military Cryptanalytics, Part III (schneier.com)\n",
      "        16 points by oedmarap 2 hours ago  | hide | 2 comments              \n",
      "      \n",
      "                \n",
      "      12.      Google Chrome browser privacy plan investigated in UK (bbc.co.uk)\n",
      "        132 points by chrischapman 3 hours ago  | hide | 55 comments              \n",
      "      \n",
      "                \n",
      "      13.      Clubhouse uploads all your contacts (twitter.com/espen_antonsen)\n",
      "        39 points by sleepyhead 1 hour ago  | hide | 8 comments              \n",
      "      \n",
      "                \n",
      "      14.      Doing Symbolic Math with SymPy (lwn.net)\n",
      "        74 points by signa11 5 hours ago  | hide | 35 comments              \n",
      "      \n",
      "                \n",
      "      15.      Tab (YC, London) is hiring full stack developers (fintech/travel) (tab.travel)\n",
      "        4 hours ago | hide      \n",
      "      \n",
      "                \n",
      "      16.      Show HN: Fourhands is a P2P MIDI jam room for pianists (jminjie.com)\n",
      "        7 points by jm_l 25 minutes ago  | hide | 2 comments              \n",
      "      \n",
      "                \n",
      "      17.      How Boston Dynamics Taught Its Robots to Dance (ieee.org)\n",
      "        289 points by samizdis 12 hours ago  | hide | 148 comments              \n",
      "      \n",
      "                \n",
      "      18.      WhatsApp Beaten by Apple’s New iMessage Privacy Update (forbes.com/sites/zakdoffman)\n",
      "        187 points by Tomte 4 hours ago  | hide | 106 comments              \n",
      "      \n",
      "                \n",
      "      19.      Tether price manipulation (twitter.com/jacoboracle)\n",
      "        168 points by temp 4 hours ago  | hide | 223 comments              \n",
      "      \n",
      "                \n",
      "      20.      India could get nasal vaccine against Covid-19 soon (indiatoday.in)\n",
      "        20 points by jangid 1 hour ago  | hide | discuss              \n",
      "      \n",
      "                \n",
      "      21.      Texas Instruments sent a DMCA takedown to a site archiving data sheets (twitter.com/marcan42)\n",
      "        277 points by DyslexicAtheist 7 hours ago  | hide | 84 comments              \n",
      "      \n",
      "                \n",
      "      22.      An Update on SolarWinds (jetbrains.com)\n",
      "        10 points by ingve 24 minutes ago  | hide | discuss              \n",
      "      \n",
      "                \n",
      "      23.      How Tail Call Optimization Works (eklitzke.org)\n",
      "        178 points by g42gregory 12 hours ago  | hide | 151 comments              \n",
      "      \n",
      "                \n",
      "      24.      Restricted DMA (lwn.net)\n",
      "        26 points by Tomte 6 hours ago  | hide | 7 comments              \n",
      "      \n",
      "                \n",
      "      25.      Metaballs and Marching Squares (jamie-wong.com)\n",
      "        93 points by bobbiechen 11 hours ago  | hide | 26 comments              \n",
      "      \n",
      "                \n",
      "      26.      A New History of Arabia, Written in Stone (2018) (newyorker.com)\n",
      "        44 points by Tomte 9 hours ago  | hide | 9 comments              \n",
      "      \n",
      "                \n",
      "      27.      The Amiga 1000, Still Receiving New Peripherals 35 Years Later (hackaday.com)\n",
      "        69 points by sohkamyung 6 hours ago  | hide | 44 comments              \n",
      "      \n",
      "                \n",
      "      28.      Love’s contradictions: Catullus on the agony of infatuation (psyche.co)\n",
      "        87 points by diodorus 13 hours ago  | hide | 16 comments              \n",
      "      \n",
      "                \n",
      "      29.      Nuclear lighthouses built by the Soviets in the Arctic [video] (bbc.com)\n",
      "        439 points by etimberg 19 hours ago  | hide | 232 comments              \n",
      "      \n",
      "                \n",
      "      30.      Dissecting the Apple M1 GPU, part I (rosenzweig.io)\n",
      "        529 points by caution 23 hours ago  | hide | 128 comments              \n",
      "      \n",
      "            More\n",
      "  \n",
      "\n",
      "Guidelines\n",
      "        | FAQ\n",
      "        | Lists\n",
      "        | API\n",
      "        | Security\n",
      "        | Legal\n",
      "        | Apply to YC\n",
      "        | ContactSearch:\n",
      "          \n",
      "            \n",
      "      \n",
      "\n"
     ]
    }
   ],
   "source": [
    "from bs4 import BeautifulSoup\n",
    "\n",
    "# Remove HTML tags using Beautiful Soup library\n",
    "soup = BeautifulSoup(r.text, \"html5lib\")\n",
    "print(soup.get_text())"
   ]
  },
  {
   "cell_type": "code",
   "execution_count": 7,
   "metadata": {
    "scrolled": true
   },
   "outputs": [
    {
     "data": {
      "text/plain": [
       "<tr class=\"athing\" id=\"25684293\">\n",
       "      <td align=\"right\" class=\"title\" valign=\"top\"><span class=\"rank\">1.</span></td>      <td class=\"votelinks\" valign=\"top\"><center><a href=\"vote?id=25684293&amp;how=up&amp;goto=news\" id=\"up_25684293\"><div class=\"votearrow\" title=\"upvote\"></div></a></center></td><td class=\"title\"><a class=\"storylink\" href=\"https://privacyinternational.org/press-release/4358/victory-high-court-against-governments-use-general-warrants\">Victory at the High Court against the government’s use of 'general warrants’</a><span class=\"sitebit comhead\"> (<a href=\"from?site=privacyinternational.org\"><span class=\"sitestr\">privacyinternational.org</span></a>)</span></td></tr>"
      ]
     },
     "execution_count": 7,
     "metadata": {},
     "output_type": "execute_result"
    }
   ],
   "source": [
    "# Find all articles\n",
    "summaries = soup.find_all(\"tr\", class_=\"athing\")\n",
    "summaries[0]"
   ]
  },
  {
   "cell_type": "code",
   "execution_count": 8,
   "metadata": {},
   "outputs": [
    {
     "data": {
      "text/plain": [
       "\"Victory at the High Court against the government’s use of 'general warrants’\""
      ]
     },
     "execution_count": 8,
     "metadata": {},
     "output_type": "execute_result"
    }
   ],
   "source": [
    "# Extract title\n",
    "summaries[0].find(\"a\", class_=\"storylink\").get_text().strip()"
   ]
  },
  {
   "cell_type": "code",
   "execution_count": 9,
   "metadata": {},
   "outputs": [
    {
     "name": "stdout",
     "output_type": "stream",
     "text": [
      "30 Article summaries found. Sample:\n",
      "Victory at the High Court against the government’s use of 'general warrants’\n"
     ]
    }
   ],
   "source": [
    "# Find all articles, extract titles\n",
    "articles = []\n",
    "summaries = soup.find_all(\"tr\", class_=\"athing\")\n",
    "for summary in summaries:\n",
    "    title = summary.find(\"a\", class_=\"storylink\").get_text().strip()\n",
    "    articles.append((title))\n",
    "\n",
    "print(len(articles), \"Article summaries found. Sample:\")\n",
    "print(articles[0])"
   ]
  },
  {
   "cell_type": "markdown",
   "metadata": {
    "collapsed": true
   },
   "source": [
    "## Normalization"
   ]
  },
  {
   "cell_type": "markdown",
   "metadata": {},
   "source": [
    "### Case Normalization"
   ]
  },
  {
   "cell_type": "code",
   "execution_count": 10,
   "metadata": {},
   "outputs": [
    {
     "name": "stdout",
     "output_type": "stream",
     "text": [
      "The first time you see The Second Renaissance it may look boring. Look at it at least twice and definitely watch part 2. It will change your view of the matrix. Are the human people the ones who started the war ? Is AI a bad thing ?\n"
     ]
    }
   ],
   "source": [
    "# Sample text\n",
    "text = \"The first time you see The Second Renaissance it may look boring. Look at it at least twice and definitely watch part 2. It will change your view of the matrix. Are the human people the ones who started the war ? Is AI a bad thing ?\"\n",
    "print(text)"
   ]
  },
  {
   "cell_type": "code",
   "execution_count": 11,
   "metadata": {},
   "outputs": [
    {
     "name": "stdout",
     "output_type": "stream",
     "text": [
      "the first time you see the second renaissance it may look boring. look at it at least twice and definitely watch part 2. it will change your view of the matrix. are the human people the ones who started the war ? is ai a bad thing ?\n"
     ]
    }
   ],
   "source": [
    "# Convert to lowercase\n",
    "text = text.lower() \n",
    "print(text)"
   ]
  },
  {
   "cell_type": "markdown",
   "metadata": {},
   "source": [
    "### Punctuation Removal"
   ]
  },
  {
   "cell_type": "code",
   "execution_count": 12,
   "metadata": {},
   "outputs": [
    {
     "name": "stdout",
     "output_type": "stream",
     "text": [
      "the first time you see the second renaissance it may look boring  look at it at least twice and definitely watch part 2  it will change your view of the matrix  are the human people the ones who started the war   is ai a bad thing  \n"
     ]
    }
   ],
   "source": [
    "import re\n",
    "\n",
    "# Remove punctuation characters\n",
    "text = re.sub(r\"[^a-zA-Z0-9]\", \" \", text) \n",
    "print(text)"
   ]
  },
  {
   "cell_type": "markdown",
   "metadata": {},
   "source": [
    "## Tokenization"
   ]
  },
  {
   "cell_type": "code",
   "execution_count": 13,
   "metadata": {},
   "outputs": [
    {
     "name": "stdout",
     "output_type": "stream",
     "text": [
      "['the', 'first', 'time', 'you', 'see', 'the', 'second', 'renaissance', 'it', 'may', 'look', 'boring', 'look', 'at', 'it', 'at', 'least', 'twice', 'and', 'definitely', 'watch', 'part', '2', 'it', 'will', 'change', 'your', 'view', 'of', 'the', 'matrix', 'are', 'the', 'human', 'people', 'the', 'ones', 'who', 'started', 'the', 'war', 'is', 'ai', 'a', 'bad', 'thing']\n"
     ]
    }
   ],
   "source": [
    "# Split text into tokens (words)\n",
    "words = text.split()\n",
    "print(words)"
   ]
  },
  {
   "cell_type": "markdown",
   "metadata": {},
   "source": [
    "### NLTK: Natural Language ToolKit"
   ]
  },
  {
   "cell_type": "code",
   "execution_count": 14,
   "metadata": {},
   "outputs": [],
   "source": [
    "import os\n",
    "import nltk\n",
    "nltk.data.path.append(os.path.join(os.getcwd(), \"nltk_data\"))"
   ]
  },
  {
   "cell_type": "code",
   "execution_count": 15,
   "metadata": {},
   "outputs": [
    {
     "name": "stdout",
     "output_type": "stream",
     "text": [
      "Dr. Smith graduated from the University of Washington. He later started an analytics firm called Lux, which catered to enterprise customers.\n"
     ]
    }
   ],
   "source": [
    "# Another sample text\n",
    "text = \"Dr. Smith graduated from the University of Washington. He later started an analytics firm called Lux, which catered to enterprise customers.\"\n",
    "print(text)"
   ]
  },
  {
   "cell_type": "code",
   "execution_count": 16,
   "metadata": {},
   "outputs": [
    {
     "name": "stdout",
     "output_type": "stream",
     "text": [
      "['Dr.', 'Smith', 'graduated', 'from', 'the', 'University', 'of', 'Washington', '.', 'He', 'later', 'started', 'an', 'analytics', 'firm', 'called', 'Lux', ',', 'which', 'catered', 'to', 'enterprise', 'customers', '.']\n"
     ]
    }
   ],
   "source": [
    "from nltk.tokenize import word_tokenize\n",
    "\n",
    "# Split text into words using NLTK\n",
    "words = word_tokenize(text)\n",
    "print(words)"
   ]
  },
  {
   "cell_type": "code",
   "execution_count": 17,
   "metadata": {},
   "outputs": [
    {
     "name": "stdout",
     "output_type": "stream",
     "text": [
      "['Dr. Smith graduated from the University of Washington.', 'He later started an analytics firm called Lux, which catered to enterprise customers.']\n"
     ]
    }
   ],
   "source": [
    "from nltk.tokenize import sent_tokenize\n",
    "\n",
    "# Split text into sentences\n",
    "sentences = sent_tokenize(text)\n",
    "print(sentences)"
   ]
  },
  {
   "cell_type": "code",
   "execution_count": 18,
   "metadata": {},
   "outputs": [
    {
     "name": "stdout",
     "output_type": "stream",
     "text": [
      "['i', 'me', 'my', 'myself', 'we', 'our', 'ours', 'ourselves', 'you', \"you're\", \"you've\", \"you'll\", \"you'd\", 'your', 'yours', 'yourself', 'yourselves', 'he', 'him', 'his', 'himself', 'she', \"she's\", 'her', 'hers', 'herself', 'it', \"it's\", 'its', 'itself', 'they', 'them', 'their', 'theirs', 'themselves', 'what', 'which', 'who', 'whom', 'this', 'that', \"that'll\", 'these', 'those', 'am', 'is', 'are', 'was', 'were', 'be', 'been', 'being', 'have', 'has', 'had', 'having', 'do', 'does', 'did', 'doing', 'a', 'an', 'the', 'and', 'but', 'if', 'or', 'because', 'as', 'until', 'while', 'of', 'at', 'by', 'for', 'with', 'about', 'against', 'between', 'into', 'through', 'during', 'before', 'after', 'above', 'below', 'to', 'from', 'up', 'down', 'in', 'out', 'on', 'off', 'over', 'under', 'again', 'further', 'then', 'once', 'here', 'there', 'when', 'where', 'why', 'how', 'all', 'any', 'both', 'each', 'few', 'more', 'most', 'other', 'some', 'such', 'no', 'nor', 'not', 'only', 'own', 'same', 'so', 'than', 'too', 'very', 's', 't', 'can', 'will', 'just', 'don', \"don't\", 'should', \"should've\", 'now', 'd', 'll', 'm', 'o', 're', 've', 'y', 'ain', 'aren', \"aren't\", 'couldn', \"couldn't\", 'didn', \"didn't\", 'doesn', \"doesn't\", 'hadn', \"hadn't\", 'hasn', \"hasn't\", 'haven', \"haven't\", 'isn', \"isn't\", 'ma', 'mightn', \"mightn't\", 'mustn', \"mustn't\", 'needn', \"needn't\", 'shan', \"shan't\", 'shouldn', \"shouldn't\", 'wasn', \"wasn't\", 'weren', \"weren't\", 'won', \"won't\", 'wouldn', \"wouldn't\"]\n"
     ]
    }
   ],
   "source": [
    "# List stop words\n",
    "from nltk.corpus import stopwords\n",
    "print(stopwords.words(\"english\"))"
   ]
  },
  {
   "cell_type": "code",
   "execution_count": 19,
   "metadata": {},
   "outputs": [
    {
     "name": "stdout",
     "output_type": "stream",
     "text": [
      "['the', 'first', 'time', 'you', 'see', 'the', 'second', 'renaissance', 'it', 'may', 'look', 'boring', 'look', 'at', 'it', 'at', 'least', 'twice', 'and', 'definitely', 'watch', 'part', '2', 'it', 'will', 'change', 'your', 'view', 'of', 'the', 'matrix', 'are', 'the', 'human', 'people', 'the', 'ones', 'who', 'started', 'the', 'war', 'is', 'ai', 'a', 'bad', 'thing']\n"
     ]
    }
   ],
   "source": [
    "# Reset text\n",
    "text = \"The first time you see The Second Renaissance it may look boring. Look at it at least twice and definitely watch part 2. It will change your view of the matrix. Are the human people the ones who started the war ? Is AI a bad thing ?\"\n",
    "\n",
    "# Normalize it\n",
    "text = re.sub(r\"[^a-zA-Z0-9]\", \" \", text.lower())\n",
    "\n",
    "# Tokenize it\n",
    "words = text.split()\n",
    "print(words)"
   ]
  },
  {
   "cell_type": "code",
   "execution_count": 20,
   "metadata": {},
   "outputs": [
    {
     "name": "stdout",
     "output_type": "stream",
     "text": [
      "['first', 'time', 'see', 'second', 'renaissance', 'may', 'look', 'boring', 'look', 'least', 'twice', 'definitely', 'watch', 'part', '2', 'change', 'view', 'matrix', 'human', 'people', 'ones', 'started', 'war', 'ai', 'bad', 'thing']\n"
     ]
    }
   ],
   "source": [
    "# Remove stop words\n",
    "words = [w for w in words if w not in stopwords.words(\"english\")]\n",
    "print(words)"
   ]
  },
  {
   "cell_type": "markdown",
   "metadata": {},
   "source": [
    "### Sentence Parsing"
   ]
  },
  {
   "cell_type": "code",
   "execution_count": 21,
   "metadata": {},
   "outputs": [
    {
     "name": "stdout",
     "output_type": "stream",
     "text": [
      "(S\n",
      "  (NP I)\n",
      "  (VP\n",
      "    (VP (V shot) (NP (Det an) (N elephant)))\n",
      "    (PP (P in) (NP (Det my) (N pajamas)))))\n",
      "(S\n",
      "  (NP I)\n",
      "  (VP\n",
      "    (V shot)\n",
      "    (NP (Det an) (N elephant) (PP (P in) (NP (Det my) (N pajamas))))))\n"
     ]
    }
   ],
   "source": [
    "import nltk\n",
    "\n",
    "# Define a custom grammar\n",
    "my_grammar = nltk.CFG.fromstring(\"\"\"\n",
    "S -> NP VP\n",
    "PP -> P NP\n",
    "NP -> Det N | Det N PP | 'I'\n",
    "VP -> V NP | VP PP\n",
    "Det -> 'an' | 'my'\n",
    "N -> 'elephant' | 'pajamas'\n",
    "V -> 'shot'\n",
    "P -> 'in'\n",
    "\"\"\")\n",
    "parser = nltk.ChartParser(my_grammar)\n",
    "\n",
    "# Parse a sentence\n",
    "sentence = word_tokenize(\"I shot an elephant in my pajamas\")\n",
    "for tree in parser.parse(sentence):\n",
    "    print(tree)"
   ]
  },
  {
   "cell_type": "markdown",
   "metadata": {},
   "source": [
    "## Stemming & Lemmatization\n",
    "\n",
    "### Stemming"
   ]
  },
  {
   "cell_type": "code",
   "execution_count": 22,
   "metadata": {},
   "outputs": [
    {
     "name": "stdout",
     "output_type": "stream",
     "text": [
      "['first', 'time', 'see', 'second', 'renaiss', 'may', 'look', 'bore', 'look', 'least', 'twice', 'definit', 'watch', 'part', '2', 'chang', 'view', 'matrix', 'human', 'peopl', 'one', 'start', 'war', 'ai', 'bad', 'thing']\n"
     ]
    }
   ],
   "source": [
    "from nltk.stem.porter import PorterStemmer\n",
    "\n",
    "# Reduce words to their stems\n",
    "stemmed = [PorterStemmer().stem(w) for w in words]\n",
    "print(stemmed)"
   ]
  },
  {
   "cell_type": "markdown",
   "metadata": {},
   "source": [
    "### Lemmatization"
   ]
  },
  {
   "cell_type": "code",
   "execution_count": 23,
   "metadata": {},
   "outputs": [
    {
     "name": "stdout",
     "output_type": "stream",
     "text": [
      "['first', 'time', 'see', 'second', 'renaissance', 'may', 'look', 'boring', 'look', 'least', 'twice', 'definitely', 'watch', 'part', '2', 'change', 'view', 'matrix', 'human', 'people', 'one', 'started', 'war', 'ai', 'bad', 'thing']\n"
     ]
    }
   ],
   "source": [
    "from nltk.stem.wordnet import WordNetLemmatizer\n",
    "\n",
    "# Reduce words to their root form\n",
    "lemmed = [WordNetLemmatizer().lemmatize(w) for w in words]\n",
    "print(lemmed)"
   ]
  },
  {
   "cell_type": "code",
   "execution_count": null,
   "metadata": {},
   "outputs": [],
   "source": [
    "# Lemmatize verbs by specifying pos\n",
    "lemmed = [WordNetLemmatizer().lemmatize(w, pos='v') for w in lemmed]\n",
    "print(lemmed)"
   ]
  },
  {
   "cell_type": "code",
   "execution_count": null,
   "metadata": {},
   "outputs": [],
   "source": []
  }
 ],
 "metadata": {
  "kernelspec": {
   "display_name": "Python 3",
   "language": "python",
   "name": "python3"
  },
  "language_info": {
   "codemirror_mode": {
    "name": "ipython",
    "version": 3
   },
   "file_extension": ".py",
   "mimetype": "text/x-python",
   "name": "python",
   "nbconvert_exporter": "python",
   "pygments_lexer": "ipython3",
   "version": "3.6.3"
  }
 },
 "nbformat": 4,
 "nbformat_minor": 2
}
